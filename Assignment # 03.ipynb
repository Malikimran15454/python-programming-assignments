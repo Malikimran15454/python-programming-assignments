{
 "cells": [
  {
   "cell_type": "markdown",
   "metadata": {},
   "source": [
    "# Write a program to check if there is any numeric value in list using for loop"
   ]
  },
  {
   "cell_type": "code",
   "execution_count": 5,
   "metadata": {},
   "outputs": [
    {
     "name": "stdout",
     "output_type": "stream",
     "text": [
      "Checking if 4 exists in numeric list ( using loop ) : \n",
      "Numeric Value Exists in List\n",
      "Numeric Value Exists in List\n",
      "Numeric Value Exists in List\n",
      "Numeric Value Exists in List\n",
      "Numeric Value Exists in List\n",
      "Numeric Value not Exist in List\n",
      "Numeric Value Exists in List\n",
      "Numeric Value not Exist in List\n",
      "Numeric Value Exists in List\n"
     ]
    }
   ],
   "source": [
    "numeric_list = [ 0,4,7,8,7,10,1,15,9 ] \n",
    "  \n",
    "print(\"Checking if 4 exists in numeric list ( using loop ) : \") \n",
    "\n",
    "for i in numeric_list: \n",
    "    if(i <= 9) : \n",
    "        print (\"Numeric Value Exists in List\")\n",
    "    else:\n",
    "        print(\"Numeric Value not Exist in List\")"
   ]
  },
  {
   "cell_type": "markdown",
   "metadata": {},
   "source": [
    "# Write a program to identify duplicate values from list"
   ]
  },
  {
   "cell_type": "code",
   "execution_count": 6,
   "metadata": {},
   "outputs": [
    {
     "name": "stdout",
     "output_type": "stream",
     "text": [
      "[20, 30, -20, 60]\n"
     ]
    }
   ],
   "source": [
    "list1 = [10, 20, 30, 20, 20, 30, 40, 50, -20, 60, 60, -20, -20]\n",
    "# duplicates from a list  \n",
    "# of integers \n",
    "def Repeat(x): \n",
    "    _size = len(x) \n",
    "    repeated = [] \n",
    "    for i in range(_size): \n",
    "        k = i + 1\n",
    "        for j in range(k, _size): \n",
    "            if x[i] == x[j] and x[i] not in repeated: \n",
    "                repeated.append(x[i]) \n",
    "    return repeated \n",
    "print (Repeat(list1)) \n"
   ]
  },
  {
   "cell_type": "markdown",
   "metadata": {},
   "source": [
    "# Write a Python script to check if a given key already exists in a dictionary "
   ]
  },
  {
   "cell_type": "code",
   "execution_count": 25,
   "metadata": {},
   "outputs": [
    {
     "name": "stdout",
     "output_type": "stream",
     "text": [
      "Key Present in Dictionary,  value = 100\n",
      "Key Not present in Dictionary\n"
     ]
    }
   ],
   "source": [
    "\n",
    "dict = {'a': 50, 'b':100, 'c':150} \n",
    "  \n",
    "def checkKey(dict, key): \n",
    "      \n",
    "    if key in dict.keys(): \n",
    "        print(\"Key Present in Dictionary, \", end =\" \") \n",
    "        print(\"value =\", dict[key]) \n",
    "    else: \n",
    "        print(\"Key Not present in Dictionary\") \n",
    "  \n",
    "key = 'b'\n",
    "checkKey(dict, key) \n",
    "  \n",
    "key = 'w'\n",
    "checkKey(dict, key) "
   ]
  },
  {
   "cell_type": "markdown",
   "metadata": {},
   "source": [
    "# Make a calculator using python with add,subtract,multipy, division and power. "
   ]
  },
  {
   "cell_type": "code",
   "execution_count": 7,
   "metadata": {},
   "outputs": [
    {
     "name": "stdout",
     "output_type": "stream",
     "text": [
      "Please select operation -\n",
      "1. Add\n",
      "2. Subtract\n",
      "3. Multiply\n",
      "4. Divide\n",
      "5. Power\n",
      "\n",
      "Select operations form 1, 2, 3, 4, 5 : \n",
      "5\n",
      "Enter first number: 5\n",
      "Enter second number: 5\n",
      "5 power 5 = 3125\n"
     ]
    }
   ],
   "source": [
    "# Function to add two numbers  \n",
    "def add(num1, num2): \n",
    "    return num1 + num2 \n",
    "  \n",
    "# Function to subtract two numbers  \n",
    "def subtract(num1, num2): \n",
    "    return num1 - num2 \n",
    "  \n",
    "# Function to multiply two numbers \n",
    "def multiply(num1, num2): \n",
    "    return num1 * num2 \n",
    "  \n",
    "# Function to divide two numbers \n",
    "def divide(num1, num2): \n",
    "    return num1 / num2 \n",
    "def power(num1,num2):\n",
    "    return num1**num2\n",
    "  \n",
    "print(\"Please select operation -\\n\" \n",
    "        \"1. Add\\n\" \n",
    "        \"2. Subtract\\n\"  \n",
    "        \"3. Multiply\\n\"  \n",
    "        \"4. Divide\\n\" \n",
    "        \"5. Power\\n\" ) \n",
    "# Take input from the user  \n",
    "select = input(\"Select operations form 1, 2, 3, 4, 5 : \\n\") \n",
    "  \n",
    "num1 = int(input(\"Enter first number: \")) \n",
    "num2 = int(input(\"Enter second number: \")) \n",
    "  \n",
    "if select == '1': \n",
    "    print(num1, \"+\", num2, \"=\", \n",
    "                    add(num1, num2)) \n",
    "  \n",
    "elif select == '2': \n",
    "    print(num1, \"-\", num2, \"=\", \n",
    "                    subtract(num1, num2)) \n",
    "  \n",
    "elif select == '3': \n",
    "    print(num1, \"*\", num2, \"=\", \n",
    "                    multiply(num1, num2)) \n",
    "  \n",
    "elif select == '4': \n",
    "    print(num1, \"/\", num2, \"=\", \n",
    "                    divide(num1, num2))\n",
    "elif select == '5': \n",
    "    print(num1, \"power\", num2, \"=\", \n",
    "                    power(num1, num2))    \n",
    "else: \n",
    "    print(\"Invalid input\") "
   ]
  },
  {
   "cell_type": "markdown",
   "metadata": {},
   "source": [
    "# Write a Python script to add a key to a dictionary "
   ]
  },
  {
   "cell_type": "code",
   "execution_count": 8,
   "metadata": {},
   "outputs": [
    {
     "name": "stdout",
     "output_type": "stream",
     "text": [
      "Empty Dictionary: \n",
      "{}\n",
      "{'age': 27}\n"
     ]
    }
   ],
   "source": [
    "#Actual dictionary\n",
    "Dict = {} \n",
    "print(\"Empty Dictionary: \") \n",
    "print(Dict)\n",
    "\n",
    "#adding a key into the dictionary\n",
    "Dict.update({\"age\" : 27})\n",
    "print(Dict)"
   ]
  },
  {
   "cell_type": "markdown",
   "metadata": {},
   "source": [
    "# Write a Python program to sum all the numeric items in a dictionary"
   ]
  },
  {
   "cell_type": "code",
   "execution_count": 10,
   "metadata": {},
   "outputs": [
    {
     "name": "stdout",
     "output_type": "stream",
     "text": [
      "Sum : 600\n"
     ]
    }
   ],
   "source": [
    "dict = {'a': 100, 'b':200, 'c':300}\n",
    "def returnSum(dict): \n",
    "      \n",
    "     sum = 0\n",
    "     for i in dict.values(): \n",
    "           sum = sum + i \n",
    "       \n",
    "     return sum\n",
    " \n",
    "print(\"Sum :\", returnSum(dict)) "
   ]
  },
  {
   "cell_type": "code",
   "execution_count": null,
   "metadata": {},
   "outputs": [],
   "source": []
  }
 ],
 "metadata": {
  "kernelspec": {
   "display_name": "Python 3",
   "language": "python",
   "name": "python3"
  },
  "language_info": {
   "codemirror_mode": {
    "name": "ipython",
    "version": 3
   },
   "file_extension": ".py",
   "mimetype": "text/x-python",
   "name": "python",
   "nbconvert_exporter": "python",
   "pygments_lexer": "ipython3",
   "version": "3.7.3"
  }
 },
 "nbformat": 4,
 "nbformat_minor": 2
}
