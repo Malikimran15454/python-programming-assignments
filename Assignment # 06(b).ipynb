{
 "cells": [
  {
   "cell_type": "markdown",
   "metadata": {},
   "source": [
    "# Question 5: \n",
    "Write a code in python in which create a class named it Car which have 5 attributes such like (model, color and name etc.) and 3 methods. And create 5 object instance from that class. "
   ]
  },
  {
   "cell_type": "code",
   "execution_count": 3,
   "metadata": {},
   "outputs": [
    {
     "name": "stdout",
     "output_type": "stream",
     "text": [
      "<__main__.MyClass object at 0x00000000058C73C8>\n",
      "Honda Civic\n",
      "2018\n",
      "White\n",
      "Honda\n",
      "Hatchback\n"
     ]
    }
   ],
   "source": [
    "class MyClass:\n",
    "    name = \"Honda Civic\"\n",
    "    model = \"2018\"\n",
    "    colour = \"White\"\n",
    "    brand_name = \"Honda\"\n",
    "    body_style = \"Hatchback\"\n",
    "    \n",
    "    def function(self):\n",
    "        print(\"This is a message inside the class.\")\n",
    "\n",
    "myobjectx = MyClass()\n",
    "print(myobjectx)\n",
    "print(myobjectx.name)\n",
    "print(myobjectx.model)\n",
    "print(myobjectx.colour)\n",
    "print(myobjectx.brand_name)\n",
    "print(myobjectx.body_style)\n"
   ]
  },
  {
   "cell_type": "code",
   "execution_count": null,
   "metadata": {},
   "outputs": [],
   "source": []
  }
 ],
 "metadata": {
  "kernelspec": {
   "display_name": "Python 3",
   "language": "python",
   "name": "python3"
  },
  "language_info": {
   "codemirror_mode": {
    "name": "ipython",
    "version": 3
   },
   "file_extension": ".py",
   "mimetype": "text/x-python",
   "name": "python",
   "nbconvert_exporter": "python",
   "pygments_lexer": "ipython3",
   "version": "3.7.3"
  }
 },
 "nbformat": 4,
 "nbformat_minor": 2
}
