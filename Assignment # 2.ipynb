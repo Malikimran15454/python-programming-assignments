{
 "cells": [
  {
   "cell_type": "markdown",
   "metadata": {},
   "source": [
    "# Write a program which takes 5 inputs from user for different subject marks."
   ]
  },
  {
   "cell_type": "code",
   "execution_count": 4,
   "metadata": {},
   "outputs": [
    {
     "name": "stdout",
     "output_type": "stream",
     "text": [
      "Enter your Maths Marks :80\n",
      "Enter your English Marks :89\n",
      "Enter your Chemistry Marks :92\n",
      "Enter your Urdu Marks : 83\n",
      "Enter your Physics Marks :78\n",
      "\n",
      "Maths Percentage is :  80.0\n",
      "English Percentage is : 89.0\n",
      "Chemistry Percentage is : 92.0\n",
      "Urdu Percentage is : 83.0\n",
      "Physics Percentage is :  78.0\n",
      "Over all Percentage = 84.0\n",
      "Your Overall Grade is A\n"
     ]
    }
   ],
   "source": [
    "#Maths = int(input(\"Enter your Maths Marks :\")) English = int(input(\"Enter your English Marks :\")) Chemistry = int(input(\"Enter your Chemistry Marks :\"))\n",
    "\n",
    "Maths = int(input(\"Enter your Maths Marks :\"))\n",
    "English = int(input(\"Enter your English Marks :\"))\n",
    "Chemistry = int(input(\"Enter your Chemistry Marks :\")) \n",
    "Urdu = int(input(\"Enter your Urdu Marks : \"))\n",
    "Physics = int(input(\"Enter your Physics Marks :\"))\n",
    "\n",
    "\n",
    "outoff = 100\n",
    "Total_Gain = Maths + English + Chemistry + Urdu + Physics\n",
    "\n",
    "Maths_Percentage = (Maths/outoff)*100\n",
    "English_Percentage = (English/outoff)*100\n",
    "Chemistry_Percentage = (Chemistry/outoff)*100\n",
    "Urdu_Percentage = (Urdu/outoff)*100\n",
    "Physics_Percentage = (Physics/outoff)*100\n",
    "\n",
    "\n",
    "print(\"\\nMaths Percentage is : \", Maths_Percentage)\n",
    "print(\"English Percentage is :\", English_Percentage)\n",
    "print(\"Chemistry Percentage is :\", Chemistry_Percentage)\n",
    "print(\"Urdu Percentage is :\", Urdu_Percentage)\n",
    "print(\"Physics Percentage is : \", Physics_Percentage)\n",
    "\n",
    "Average_Percentage = (Maths_Percentage+English_Percentage+Chemistry_Percentage+Urdu_Percentage+Physics_Percentage)//5\n",
    "print(\"Over all Percentage =\", Average_Percentage)\n",
    "\n",
    "if (Average_Percentage >=90 and Average_Percentage <=100):\n",
    "    print(\"Your Overall Grade is A+\")\n",
    "elif (Average_Percentage >=70 and Average_Percentage <=89):\n",
    "    print(\"Your Overall Grade is A\")\n",
    "elif (Average_Percentage >=60 and Average_Percentage <=69 ):\n",
    "    print(\"Your Overall Grade is B \")\n",
    "elif (Average_Percentage >=50 and Average_Percentage <=59):\n",
    "    print(\"Your Overall Grade is C\")\n",
    "\n"
   ]
  },
  {
   "cell_type": "markdown",
   "metadata": {},
   "source": [
    "# Write a program which take input from user and identify that the given number is even or odd?"
   ]
  },
  {
   "cell_type": "code",
   "execution_count": 5,
   "metadata": {},
   "outputs": [
    {
     "name": "stdout",
     "output_type": "stream",
     "text": [
      "9\n",
      "This is an odd\n"
     ]
    }
   ],
   "source": [
    "num = int(input())\n",
    "if num % 2 == 0:\n",
    "    print(\"This is an even\")\n",
    "else:\n",
    "    print(\"This is an odd\")"
   ]
  },
  {
   "cell_type": "markdown",
   "metadata": {},
   "source": [
    "# Write a program which print the length of the list? "
   ]
  },
  {
   "cell_type": "code",
   "execution_count": 6,
   "metadata": {},
   "outputs": [
    {
     "data": {
      "text/plain": [
       "5"
      ]
     },
     "execution_count": 6,
     "metadata": {},
     "output_type": "execute_result"
    }
   ],
   "source": [
    "list = [\"Imran\",\"Saad\",\"Ali\",\"Samad\",\"Shahid\"]\n",
    "len(list)\n"
   ]
  },
  {
   "cell_type": "markdown",
   "metadata": {},
   "source": [
    "# Write a Python program to sum all the numeric items in a list?"
   ]
  },
  {
   "cell_type": "code",
   "execution_count": 7,
   "metadata": {},
   "outputs": [
    {
     "name": "stdout",
     "output_type": "stream",
     "text": [
      "sum =  50\n"
     ]
    }
   ],
   "source": [
    "numbers = [1,2,3,4,5,6,5,8,4,0,1,2,9]\n",
    "sum = 0\n",
    "for num in numbers:\n",
    "    sum = sum + num\n",
    "print(\"sum = \",sum)"
   ]
  },
  {
   "cell_type": "markdown",
   "metadata": {},
   "source": [
    "# Write a Python program to get the largest number from a numeric list."
   ]
  },
  {
   "cell_type": "code",
   "execution_count": 8,
   "metadata": {},
   "outputs": [
    {
     "name": "stdout",
     "output_type": "stream",
     "text": [
      "Maximum number in the list is :  73\n"
     ]
    }
   ],
   "source": [
    "lst = [1,2,53,4,56,57,7,8,55.72,73]\n",
    "\n",
    "print(\"Maximum number in the list is : \",max(lst))"
   ]
  },
  {
   "cell_type": "markdown",
   "metadata": {},
   "source": [
    "# write a program that prints out all the elements of the list that are less than 5. "
   ]
  },
  {
   "cell_type": "code",
   "execution_count": 10,
   "metadata": {},
   "outputs": [
    {
     "name": "stdout",
     "output_type": "stream",
     "text": [
      "1\n",
      "2\n",
      "3\n",
      "2\n",
      "2\n",
      "3\n"
     ]
    }
   ],
   "source": [
    "a = [1,2,3, 2,2, 3, 5, 8, 14, 11, 39, 56, 80]\n",
    "\n",
    "for i in a:\n",
    "        if i<5:\n",
    "            print(i)"
   ]
  }
 ],
 "metadata": {
  "kernelspec": {
   "display_name": "Python 3",
   "language": "python",
   "name": "python3"
  },
  "language_info": {
   "codemirror_mode": {
    "name": "ipython",
    "version": 3
   },
   "file_extension": ".py",
   "mimetype": "text/x-python",
   "name": "python",
   "nbconvert_exporter": "python",
   "pygments_lexer": "ipython3",
   "version": "3.7.3"
  }
 },
 "nbformat": 4,
 "nbformat_minor": 2
}
