{
 "cells": [
  {
   "cell_type": "code",
   "execution_count": null,
   "metadata": {},
   "outputs": [],
   "source": [
    "# Use a dictionary to store information about a person you know. Store their first name, last name, age, and the city in which they live. You should have keys such as first_name, last_name, age, and city. Print each piece of information stored in your dictionary. Add a new key value pair about qualification then update the qualification value to high academic level then delete it."
   ]
  },
  {
   "cell_type": "code",
   "execution_count": 7,
   "metadata": {},
   "outputs": [
    {
     "name": "stdout",
     "output_type": "stream",
     "text": [
      "Muhammad\n",
      "Imran\n",
      "26\n",
      "Karachi\n"
     ]
    }
   ],
   "source": [
    "person = {'first_name': 'Muhammad','last_name': 'Imran','age': 26,'city': 'Karachi',}\n",
    "\n",
    "print(person['first_name'])\n",
    "print(person['last_name'])\n",
    "print(person['age'])\n",
    "print(person['city'])\n",
    " "
   ]
  },
  {
   "cell_type": "code",
   "execution_count": 10,
   "metadata": {},
   "outputs": [
    {
     "name": "stdout",
     "output_type": "stream",
     "text": [
      "Current Education is:  {'key1': 'BE in', 'key2': 'Electronics'}\n",
      "{'key1': 'BE in', 'key2': 'Electronics', 'key3': 'MS', 'key4': 'in', 'key5': 'Computer Science Cont.', 'newkey1': 'MS in Computer Science(CCN)'}\n"
     ]
    }
   ],
   "source": [
    "dict = {'key1':'BE in', 'key2':'Electronics'}  # add a key value pair in a dictionary\n",
    "print(\"Current Education is: \", dict)  \n",
    "  \n",
    "# adding dict1 (key3, key4 and key5) to dict  \n",
    "dict1 = {'key3':'MS', 'key4':'in', 'key5':'Computer Science Cont.'}  # add new values in a dict.\n",
    "dict.update(dict1)  \n",
    "  \n",
    "# by assigning  \n",
    "dict.update(newkey1 ='MS in Computer Science(CCN)')  # update dict. Using update() method\n",
    "print(dict)  \n",
    "\n",
    "\n",
    " "
   ]
  },
  {
   "cell_type": "code",
   "execution_count": 36,
   "metadata": {},
   "outputs": [
    {
     "name": "stdout",
     "output_type": "stream",
     "text": [
      "{'key1': 'BE in', 'key2': 'Electronics', 'key3': 'MS', 'key4': 'in', 'newkey1': 'MS in Computer Science(CCN)'}\n"
     ]
    }
   ],
   "source": [
    "dict1 = {'key1': 'BE in', 'key2': 'Electronics', 'key3': 'MS', 'key4': 'in', 'key5': 'Computer Science Cont.', 'newkey1': 'MS in Computer Science(CCN)'}\n",
    "del dict1['key5']\n",
    "print(dict1)"
   ]
  },
  {
   "cell_type": "markdown",
   "metadata": {},
   "source": [
    "# Make a dictionary called cities. Use the names of three cities as keys in your dictionary. Create a dictionary of information about each city and include the country that the city is in, its approximate population, and one fact about that city. The keys for each city’s dictionary should be something like country, population, and fact. Print the name of each city and all of the information you have stored about it."
   ]
  },
  {
   "cell_type": "code",
   "execution_count": 45,
   "metadata": {},
   "outputs": [
    {
     "name": "stdout",
     "output_type": "stream",
     "text": [
      "\n",
      "Here's what I know about Karachi:\n",
      "\tcity name: Karachi\n",
      "\tcoutry: Pakistan\n",
      "\tpopulation: 43196\n",
      "\tfact: Economical hub of pakistan\n",
      "\n",
      "Here's what I know about Lahore:\n",
      "\tcity name: Lahore\n",
      "\tcoutry: Pakistan\n",
      "\tpopulation: 398988\n",
      "\tfact: Biggest population city of Pakistan\n",
      "\n",
      "Here's what I know about Sawat:\n",
      "\tcity name: Sawat\n",
      "\tcountry: Pakistan\n",
      "\tpopulation: 3723\n",
      "\tfact: Favourite for tourisim in Pakistan\n"
     ]
    }
   ],
   "source": [
    "# Make an empty list to store the cities data.\n",
    "fav_cities = []\n",
    "\n",
    "# Make individual city, and store each one in the list.\n",
    "city = {\n",
    "    'city name': 'Karachi',\n",
    "    'coutry': 'Pakistan',\n",
    "    'population': 43196,\n",
    "    'fact': 'Economical hub of pakistan'\n",
    "}\n",
    "fav_cities.append(city)\n",
    "\n",
    "city = {\n",
    "    'city name': 'Lahore',\n",
    "    'coutry': 'Pakistan',\n",
    "    'population': 398988,\n",
    "    'fact': 'Biggest population city of Pakistan',\n",
    "}\n",
    "fav_cities.append(city)\n",
    "\n",
    "city = {\n",
    "    'city name': 'Sawat',\n",
    "    'country': 'Pakistan',\n",
    "    'population': 3723,\n",
    "    'fact': 'Favourite for tourisim in Pakistan',\n",
    "}\n",
    "fav_cities.append(city)\n",
    "\n",
    "# Display information about each city by using loop.\n",
    "for city in fav_cities:\n",
    "    print(\"\\nHere's what I know about \" + city['city name'].title() + \":\")\n",
    "    for key, value in city.items():\n",
    "        print(\"\\t\" + key + \": \" + str(value))"
   ]
  },
  {
   "cell_type": "markdown",
   "metadata": {},
   "source": [
    "# A movie theater charges different ticket prices depending on a person’s age. If a person is under the age of 3, the ticket is free; if they are between 3 and 12, the ticket is $10; and if they are over age 12, the ticket is $15. Write a loop in which you ask users their age, and then tell them the cost of their movie ticket."
   ]
  },
  {
   "cell_type": "code",
   "execution_count": 46,
   "metadata": {},
   "outputs": [
    {
     "name": "stdout",
     "output_type": "stream",
     "text": [
      "How old are you? 2\n",
      "Your ticket is free.\n"
     ]
    }
   ],
   "source": [
    "age = input(\"How old are you? \")\n",
    "age = int(age)\n",
    "if age < 3:\n",
    "     print(\"Your ticket is free.\")\n",
    "elif age > 3 and age < 12:\n",
    "     print(\"Your ticket is $10\")\n",
    "elif age > 12:\n",
    "     print(\"Your ticket is $15\")"
   ]
  },
  {
   "cell_type": "code",
   "execution_count": 47,
   "metadata": {},
   "outputs": [
    {
     "name": "stdout",
     "output_type": "stream",
     "text": [
      "How old are you?\n",
      "Enter 'quit' when you are finished. 3\n",
      "  Your ticket is $10.\n",
      "How old are you?\n",
      "Enter 'quit' when you are finished. quit\n"
     ]
    }
   ],
   "source": [
    "prompt = \"How old are you?\"\n",
    "prompt += \"\\nEnter 'quit' when you are finished. \"\n",
    "\n",
    "while True:\n",
    "    age = input(prompt)\n",
    "    if age == 'quit':\n",
    "        break\n",
    "    age = int(age)\n",
    "\n",
    "    if age < 3:\n",
    "        print(\"  You get in free!\")\n",
    "    elif age < 13:\n",
    "        print(\"  Your ticket is $10.\")\n",
    "    else:\n",
    "        print(\"  Your ticket is $15.\")"
   ]
  },
  {
   "cell_type": "markdown",
   "metadata": {},
   "source": [
    "# Write a function called favorite_book() that accepts one parameter, title. The function should print a message, such as One of my favorite books is Alice in Wonderland. Call the function, making sure to include a book title as an argument in the function call."
   ]
  },
  {
   "cell_type": "code",
   "execution_count": 48,
   "metadata": {},
   "outputs": [
    {
     "name": "stdout",
     "output_type": "stream",
     "text": [
      "The Abstract Wild is one of my favorite books.\n"
     ]
    }
   ],
   "source": [
    "def favorite_book(title):\n",
    "    \"\"\"Display a message about someone's favorite book.\"\"\"\n",
    "    print(title + \" is one of my favorite books.\")\n",
    "\n",
    "favorite_book('The Abstract Wild')"
   ]
  },
  {
   "cell_type": "markdown",
   "metadata": {},
   "source": [
    "# Write a program which randomly generate a number between 1 to 30 and ask the user in input field to guess the correct number. Give three chances to user guess the number and also give hint to user if hidden number is greater or smaller than the number he given to input field."
   ]
  },
  {
   "cell_type": "code",
   "execution_count": 56,
   "metadata": {},
   "outputs": [
    {
     "name": "stdout",
     "output_type": "stream",
     "text": [
      "too high\n",
      "None\n"
     ]
    }
   ],
   "source": [
    "from random import randint\n",
    "def guess(x):\n",
    "  it = randint(1, 30)\n",
    "  if x == it:\n",
    "      print(\"You got it!\")\n",
    "  elif x > it:\n",
    "      print(\"too high\")\n",
    "  else:\n",
    "      print(\"too low\")\n",
    "print (guess(30))"
   ]
  },
  {
   "cell_type": "code",
   "execution_count": null,
   "metadata": {},
   "outputs": [],
   "source": [
    "import random\n",
    " \n",
    "hidden = random.randrange(1, 30)\n",
    "print(hidden)\n",
    " \n",
    "guess = int(input(\"Please enter your guess: \"))\n",
    " \n",
    "if guess == hidden:\n",
    "    print(\"Hit!\")\n",
    "elif guess < hidden:\n",
    "    print(\"Your guess is too low\")\n",
    "else:\n",
    "    print(\"Your guess is too high\")"
   ]
  },
  {
   "cell_type": "code",
   "execution_count": null,
   "metadata": {},
   "outputs": [],
   "source": []
  },
  {
   "cell_type": "code",
   "execution_count": null,
   "metadata": {},
   "outputs": [],
   "source": []
  }
 ],
 "metadata": {
  "kernelspec": {
   "display_name": "Python 3",
   "language": "python",
   "name": "python3"
  },
  "language_info": {
   "codemirror_mode": {
    "name": "ipython",
    "version": 3
   },
   "file_extension": ".py",
   "mimetype": "text/x-python",
   "name": "python",
   "nbconvert_exporter": "python",
   "pygments_lexer": "ipython3",
   "version": "3.7.3"
  }
 },
 "nbformat": 4,
 "nbformat_minor": 2
}
